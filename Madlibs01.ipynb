{
  "nbformat": 4,
  "nbformat_minor": 0,
  "metadata": {
    "colab": {
      "provenance": [],
      "authorship_tag": "ABX9TyMkmzANjsMo4pVmWJsI6bmu",
      "include_colab_link": true
    },
    "kernelspec": {
      "name": "python3",
      "display_name": "Python 3"
    },
    "language_info": {
      "name": "python"
    }
  },
  "cells": [
    {
      "cell_type": "markdown",
      "metadata": {
        "id": "view-in-github",
        "colab_type": "text"
      },
      "source": [
        "<a href=\"https://colab.research.google.com/github/NeelamGhazal/Python-Projects-1-9/blob/main/Madlibs01.ipynb\" target=\"_parent\"><img src=\"https://colab.research.google.com/assets/colab-badge.svg\" alt=\"Open In Colab\"/></a>"
      ]
    },
    {
      "cell_type": "code",
      "execution_count": null,
      "metadata": {
        "id": "cWI6hiyS96vT",
        "colab": {
          "base_uri": "https://localhost:8080/"
        },
        "outputId": "b7d0c8bd-bde9-4dd6-e06a-76a60c285b1e"
      },
      "outputs": [
        {
          "output_type": "stream",
          "name": "stdout",
          "text": [
            "Enter an adjective: amazing\n",
            "Enter a verb: explore\n",
            "Enter another verb: technology\n",
            "Enter the name of a famous person: Elon Musk\n",
            "\n",
            "Here is your Mad Libs story:\n",
            "\n",
            "Space exploration is so amazing! I can't wait to explore new planets. One day, I hope to  create technology like Elon Musk and change the world!\n"
          ]
        }
      ],
      "source": [
        "adj = input(\"Enter an adjective: \")\n",
        "verb1 = input(\"Enter a verb: \")\n",
        "verb2 = input(\"Enter another verb: \")\n",
        "famous_person = input(\"Enter the name of a famous person: \")\n",
        "\n",
        "\n",
        "madlib = f\"Space exploration is so {adj}! I can't wait to {verb1} new planets. One day, I hope to  create {verb2} like {famous_person} and change the world!\"\n",
        "\n",
        "\n",
        "print(\"\\nHere is your Mad Libs story:\\n\")\n",
        "print(madlib)\n"
      ]
    },
    {
      "cell_type": "markdown",
      "source": [
        "Space exploration is so amazing! I can't wait to explore new planets. One day, I hope to create technology like Elon Musk and change the world!"
      ],
      "metadata": {
        "id": "M9LvpxZ9-0vj"
      }
    }
  ]
}