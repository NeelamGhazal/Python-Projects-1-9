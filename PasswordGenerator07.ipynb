{
  "nbformat": 4,
  "nbformat_minor": 0,
  "metadata": {
    "colab": {
      "provenance": [],
      "authorship_tag": "ABX9TyO+9A3N3cvSACmeioDKkaIN",
      "include_colab_link": true
    },
    "kernelspec": {
      "name": "python3",
      "display_name": "Python 3"
    },
    "language_info": {
      "name": "python"
    }
  },
  "cells": [
    {
      "cell_type": "markdown",
      "metadata": {
        "id": "view-in-github",
        "colab_type": "text"
      },
      "source": [
        "<a href=\"https://colab.research.google.com/github/NeelamGhazal/Python-Projects-1-9/blob/main/PasswordGenerator07.ipynb\" target=\"_parent\"><img src=\"https://colab.research.google.com/assets/colab-badge.svg\" alt=\"Open In Colab\"/></a>"
      ]
    },
    {
      "cell_type": "code",
      "execution_count": null,
      "metadata": {
        "colab": {
          "base_uri": "https://localhost:8080/"
        },
        "id": "tYo07_5c0hyG",
        "outputId": "5bb8d323-485c-42cd-813f-22bdec9c100c"
      },
      "outputs": [
        {
          "output_type": "stream",
          "name": "stdout",
          "text": [
            "Welcome To Your Password Generator\n",
            "Amount of passwords to generate: 7\n",
            "Input your password length: 8\n",
            "\n",
            "Here are your passwords: \n",
            "Y8G#^xWc\n",
            "Y@P&u7F8\n",
            "#4*f.XSm\n",
            "4TonbU(5\n",
            "0oqNgzIY\n",
            "?h0h(Vkx\n",
            "2h0,Ic#6\n",
            "\n",
            "Done!\n"
          ]
        }
      ],
      "source": [
        "import random\n",
        "\n",
        "print('Welcome To Your Password Generator')\n",
        "\n",
        "chars = 'abcdefghijklmnopqrstuvwxyzABCDEFGHIJKLMNOPQRSTUVWXYZ!@#$%^&*().,?1234567890'\n",
        "\n",
        "number = input('Amount of passwords to generate: ')\n",
        "number = int(number)\n",
        "\n",
        "length = input('Input your password length: ')\n",
        "length = int(length)\n",
        "\n",
        "print('\\nHere are your passwords: ')\n",
        "\n",
        "for passwords in range(number):\n",
        "    password = ''\n",
        "    for c in range(length):\n",
        "        password += random.choice(chars)\n",
        "    print(password)\n",
        "\n",
        "print('\\nDone!')\n"
      ]
    }
  ]
}