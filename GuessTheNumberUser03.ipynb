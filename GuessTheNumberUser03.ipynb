{
  "nbformat": 4,
  "nbformat_minor": 0,
  "metadata": {
    "colab": {
      "provenance": [],
      "authorship_tag": "ABX9TyPZ3ZRxSR22Zw3ep8pB5TLh",
      "include_colab_link": true
    },
    "kernelspec": {
      "name": "python3",
      "display_name": "Python 3"
    },
    "language_info": {
      "name": "python"
    }
  },
  "cells": [
    {
      "cell_type": "markdown",
      "metadata": {
        "id": "view-in-github",
        "colab_type": "text"
      },
      "source": [
        "<a href=\"https://colab.research.google.com/github/NeelamGhazal/Python-Projects-1-9/blob/main/GuessTheNumberUser03.ipynb\" target=\"_parent\"><img src=\"https://colab.research.google.com/assets/colab-badge.svg\" alt=\"Open In Colab\"/></a>"
      ]
    },
    {
      "cell_type": "code",
      "source": [
        "import random\n",
        "\n",
        "def computer_guess(x):\n",
        "    low = 1\n",
        "    high = x\n",
        "    feedback = ''\n",
        "    while feedback != 'c':\n",
        "        if low != high:\n",
        "           guess = random.randint(low, high)\n",
        "        else:\n",
        "           guess = low\n",
        "        feedback = input(f'Is {guess} too high (H), too low (L), or correct (C)??').lower()\n",
        "        if feedback == 'h':\n",
        "           high = guess - 1\n",
        "        elif feedback == 'l':\n",
        "           low = guess + 1\n",
        "\n",
        "    print(f'Yay! The computer guessed your number, {guess}, correctly!')\n",
        "\n",
        "computer_guess(10)\n"
      ],
      "metadata": {
        "colab": {
          "base_uri": "https://localhost:8080/"
        },
        "id": "Jwh6OZmdO9Xn",
        "outputId": "9db917a2-39ec-4df3-c92b-e21bf10d058e"
      },
      "execution_count": null,
      "outputs": [
        {
          "output_type": "stream",
          "name": "stdout",
          "text": [
            "Is 1 too high (H), too low (L), or correct (C)??l\n",
            "Is 7 too high (H), too low (L), or correct (C)??h\n",
            "Is 2 too high (H), too low (L), or correct (C)??l\n",
            "Is 3 too high (H), too low (L), or correct (C)??l\n",
            "Is 4 too high (H), too low (L), or correct (C)??l\n",
            "Is 6 too high (H), too low (L), or correct (C)??h\n",
            "Is 5 too high (H), too low (L), or correct (C)??c\n",
            "Yay! The computer guessed your number, 5, correctly!\n"
          ]
        }
      ]
    }
  ]
}